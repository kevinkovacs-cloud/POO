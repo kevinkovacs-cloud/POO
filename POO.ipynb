{
  "nbformat": 4,
  "nbformat_minor": 0,
  "metadata": {
    "colab": {
      "provenance": [],
      "collapsed_sections": [
        "Ukw4edjvhZ1T",
        "kE0SXnRrhb5X",
        "gk64Hc2AlD3F",
        "qZhWNTcbmekQ",
        "xSHA0MrdmhKi"
      ]
    },
    "kernelspec": {
      "name": "python3",
      "display_name": "Python 3"
    },
    "language_info": {
      "name": "python"
    }
  },
  "cells": [
    {
      "cell_type": "markdown",
      "source": [
        "Notebook para la clase introductoria de POO."
      ],
      "metadata": {
        "id": "Nq3MushtPGuU"
      }
    },
    {
      "cell_type": "markdown",
      "source": [
        "# Introducción"
      ],
      "metadata": {
        "id": "Ukw4edjvhZ1T"
      }
    },
    {
      "cell_type": "code",
      "execution_count": 5,
      "metadata": {
        "colab": {
          "base_uri": "https://localhost:8080/"
        },
        "id": "5_myCH8jPFE-",
        "outputId": "050df787-2567-4338-e1c6-ef7bc0f0f640"
      },
      "outputs": [
        {
          "output_type": "execute_result",
          "data": {
            "text/plain": [
              "__main__.Personaje"
            ]
          },
          "metadata": {},
          "execution_count": 5
        }
      ],
      "source": [
        "class Personaje:\n",
        "  nombre = \"Default\"\n",
        "  fuerza = 0\n",
        "  inteligencia = 0\n",
        "  defensa = 0\n",
        "  vida = 0\n",
        "\n",
        "Personaje"
      ]
    },
    {
      "cell_type": "markdown",
      "source": [
        "Lo instanciamos:"
      ],
      "metadata": {
        "id": "gYPj8FzAPVJZ"
      }
    },
    {
      "cell_type": "code",
      "source": [
        "mi_personaje = Personaje()"
      ],
      "metadata": {
        "id": "tcfL5KNSPQ_d"
      },
      "execution_count": 6,
      "outputs": []
    },
    {
      "cell_type": "markdown",
      "source": [
        "A continuación veremos que se crea el objeto una vez instanciado:"
      ],
      "metadata": {
        "id": "8KXGtbxfPY59"
      }
    },
    {
      "cell_type": "code",
      "source": [
        "mi_personaje"
      ],
      "metadata": {
        "colab": {
          "base_uri": "https://localhost:8080/"
        },
        "id": "Q-ItSx3EPXMp",
        "outputId": "705280c7-daa1-468d-d9c3-e2c60da65690"
      },
      "execution_count": 7,
      "outputs": [
        {
          "output_type": "execute_result",
          "data": {
            "text/plain": [
              "<__main__.Personaje at 0x7d7f26c2f7f0>"
            ]
          },
          "metadata": {},
          "execution_count": 7
        }
      ]
    },
    {
      "cell_type": "markdown",
      "source": [
        "Utilizamos los atributos por default de la clase:"
      ],
      "metadata": {
        "id": "08wAImZIPdup"
      }
    },
    {
      "cell_type": "code",
      "source": [
        "print(\"El nombre del jueador es: \", mi_personaje.nombre)\n",
        "print(f\"La fuerza {mi_personaje.fuerza} es de mi personaje\")"
      ],
      "metadata": {
        "colab": {
          "base_uri": "https://localhost:8080/"
        },
        "id": "Dm402q9JPYJ5",
        "outputId": "4a14a98d-20ea-473e-cbd8-b89c0f6be125"
      },
      "execution_count": 8,
      "outputs": [
        {
          "output_type": "stream",
          "name": "stdout",
          "text": [
            "El nombre del jueador es:  Default\n",
            "La fuerza 0 es de mi personaje\n"
          ]
        }
      ]
    },
    {
      "cell_type": "markdown",
      "source": [
        "Puedo modificar tambien los valores:"
      ],
      "metadata": {
        "id": "4Bj-CP9vP6dT"
      }
    },
    {
      "cell_type": "code",
      "source": [
        "mi_personaje.nombre = \"Nero\"\n",
        "mi_personaje.nombre"
      ],
      "metadata": {
        "colab": {
          "base_uri": "https://localhost:8080/",
          "height": 35
        },
        "id": "UdASlUlbPqW5",
        "outputId": "b8d020dd-7af0-4bf2-92ee-6404488f804c"
      },
      "execution_count": 9,
      "outputs": [
        {
          "output_type": "execute_result",
          "data": {
            "text/plain": [
              "'Nero'"
            ],
            "application/vnd.google.colaboratory.intrinsic+json": {
              "type": "string"
            }
          },
          "metadata": {},
          "execution_count": 9
        }
      ]
    },
    {
      "cell_type": "markdown",
      "source": [
        "Recien utilizamos el constructor vacio que viene por defecto. El tema es si queremos agregarle valores: cuando creamos un objeto hay que crear un metodo constructor para que reciba esos valores."
      ],
      "metadata": {
        "id": "Pe7ULj0eQAtu"
      }
    },
    {
      "cell_type": "code",
      "source": [
        "class Personaje:\n",
        "  nombre = \"Default\"\n",
        "  fuerza = 0\n",
        "  inteligencia = 0\n",
        "  defensa = 0\n",
        "  vida = 0\n",
        "\n",
        "  def __init__(self, nombre, fuerza, inteligencia, defensa, vida): #self es argumento que hace referencia a si mismo\n",
        "      self.nombre = nombre #el nombre que tengas por default, cambialo por el nuevo que recibas\n",
        "      self.fuerza = fuerza\n",
        "      self.inteligencia = inteligencia\n",
        "      self.defensa = defensa\n",
        "      self.vida = vida"
      ],
      "metadata": {
        "id": "C2a5JDQmP-zk"
      },
      "execution_count": 10,
      "outputs": []
    },
    {
      "cell_type": "markdown",
      "source": [
        "Si ejecutamos nos dará un error:"
      ],
      "metadata": {
        "id": "BRSb7gdxQkt4"
      }
    },
    {
      "cell_type": "code",
      "source": [
        "#mi_personaje = Personaje()"
      ],
      "metadata": {
        "id": "gSblLpbZQjoX"
      },
      "execution_count": null,
      "outputs": []
    },
    {
      "cell_type": "markdown",
      "source": [
        "Debemos agregarle los atributos que especifiqué que va a recibir. Serian los argumentos de la función el equivalente."
      ],
      "metadata": {
        "id": "n7DnUZ3nQ4Qy"
      }
    },
    {
      "cell_type": "code",
      "source": [
        "mi_personaje = Personaje(\"Nero\", 10, 1, 5, 100)\n",
        "mi_personaje.nombre\n",
        "mi_personaje.inteligencia"
      ],
      "metadata": {
        "colab": {
          "base_uri": "https://localhost:8080/"
        },
        "id": "hsG8KwaRQn6i",
        "outputId": "099bb5fc-e546-40d3-ced0-a660dd981a20"
      },
      "execution_count": 15,
      "outputs": [
        {
          "output_type": "execute_result",
          "data": {
            "text/plain": [
              "1"
            ]
          },
          "metadata": {},
          "execution_count": 15
        }
      ]
    },
    {
      "cell_type": "markdown",
      "source": [
        "Modifica los atributos al momento de crearlos... PERO!! No es necesario declarar esos atributos por default ya que el constructor nos obliga a poner esos valores, lo declaramos con \"self\"."
      ],
      "metadata": {
        "id": "zuts4HECSJ_n"
      }
    },
    {
      "cell_type": "code",
      "source": [
        "class Personaje:\n",
        "  def __init__(self, nombre, fuerza, inteligencia, defensa, vida): #self es argumento que hace referencia a si mismo\n",
        "      self.nombre = nombre #el nombre que tengas por default, cambialo por el nuevo que recibas\n",
        "      self.fuerza = fuerza\n",
        "      self.inteligencia = inteligencia\n",
        "      self.defensa = defensa\n",
        "      self.vida = vida"
      ],
      "metadata": {
        "id": "lJwCUTeaQ18s"
      },
      "execution_count": 16,
      "outputs": []
    },
    {
      "cell_type": "markdown",
      "source": [
        "Pueden haber atributos que se inicializan a partir de otros, como por ejemplo \"aguante\": self.aguante = fuerza*vida, o turno, que indique si es su turno o no (self.turno = True)."
      ],
      "metadata": {
        "id": "RG0kCWPdSsp7"
      }
    },
    {
      "cell_type": "markdown",
      "source": [
        "Estado del objeto:"
      ],
      "metadata": {
        "id": "qvOSY6DdTfP_"
      }
    },
    {
      "cell_type": "code",
      "source": [
        "class Personaje:\n",
        "  def __init__(self, nombre, fuerza, inteligencia, defensa, vida): #self es argumento que hace referencia a si mismo\n",
        "      self.nombre = nombre #el nombre que tengas por default, cambialo por el nuevo que recibas\n",
        "      self.fuerza = fuerza\n",
        "      self.inteligencia = inteligencia\n",
        "      self.defensa = defensa\n",
        "      self.vida = vida\n",
        "\n",
        "  def atributos(self):\n",
        "    print(self.nombre, \":\", sep=\"\")\n",
        "    print(\"-Fuerza:\", self.fuerza)\n",
        "    print(\"-Inteligencia:\", self.inteligencia)\n",
        "    print(\"-Defensa:\", self.defensa)\n",
        "    print(\"-Vida:\", self.vida)\n",
        "\n",
        "mi_personaje = Personaje(\"Nero\", 10, 1, 5, 100)\n",
        "mi_personaje.atributos() #es un METODO que muestra ATRIBUTOS"
      ],
      "metadata": {
        "colab": {
          "base_uri": "https://localhost:8080/"
        },
        "id": "oBkV7xD1SS1s",
        "outputId": "a255aef0-d72f-4a61-accc-a563d1f41cfe"
      },
      "execution_count": 20,
      "outputs": [
        {
          "output_type": "stream",
          "name": "stdout",
          "text": [
            "Nero:\n",
            "-Fuerza: 10\n",
            "-Inteligencia: 1\n",
            "-Defensa: 5\n",
            "-Vida: 100\n"
          ]
        }
      ]
    },
    {
      "cell_type": "markdown",
      "source": [
        "Creamos metodo para subir de nivel a personaje:"
      ],
      "metadata": {
        "id": "PPRi9Si8UIDQ"
      }
    },
    {
      "cell_type": "code",
      "source": [
        "class Personaje:\n",
        "  def __init__(self, nombre, fuerza, inteligencia, defensa, vida): #self es argumento que hace referencia a si mismo\n",
        "      self.nombre = nombre #el nombre que tengas por default, cambialo por el nuevo que recibas\n",
        "      self.fuerza = fuerza\n",
        "      self.inteligencia = inteligencia\n",
        "      self.defensa = defensa\n",
        "      self.vida = vida\n",
        "\n",
        "  def atributos(self):\n",
        "    print(self.nombre, \":\", sep=\"\")\n",
        "    print(\"-Fuerza:\", self.fuerza)\n",
        "    print(\"-Inteligencia:\", self.inteligencia)\n",
        "    print(\"-Defensa:\", self.defensa)\n",
        "    print(\"-Vida:\", self.vida)\n",
        "\n",
        "  def subir_nivel(self, fuerza, inteligencia, defensa):\n",
        "    self.fuerza = self.fuerza + fuerza\n",
        "    self.inteligencia = self.inteligencia + inteligencia\n",
        "    self.defensa = self.defensa + defensa\n",
        "\n",
        "\n",
        "mi_personaje = Personaje(\"Nero\", 10, 1, 5, 100)\n",
        "mi_personaje.atributos() #es un METODO que muestra ATRIBUTOS\n",
        "mi_personaje.subir_nivel(1, 2, 0)\n",
        "mi_personaje.atributos()"
      ],
      "metadata": {
        "colab": {
          "base_uri": "https://localhost:8080/"
        },
        "id": "Rimd03srT9XR",
        "outputId": "b787b770-042f-446e-dd5e-86c7679b382d"
      },
      "execution_count": 21,
      "outputs": [
        {
          "output_type": "stream",
          "name": "stdout",
          "text": [
            "Nero:\n",
            "-Fuerza: 10\n",
            "-Inteligencia: 1\n",
            "-Defensa: 5\n",
            "-Vida: 100\n",
            "Nero:\n",
            "-Fuerza: 11\n",
            "-Inteligencia: 3\n",
            "-Defensa: 5\n",
            "-Vida: 100\n"
          ]
        }
      ]
    },
    {
      "cell_type": "markdown",
      "source": [
        "Metodo que devuelva boolean para saber si esta vivo o no:"
      ],
      "metadata": {
        "id": "81wfqoXVUiv1"
      }
    },
    {
      "cell_type": "code",
      "source": [
        "class Personaje:\n",
        "  def __init__(self, nombre, fuerza, inteligencia, defensa, vida): #self es argumento que hace referencia a si mismo\n",
        "      self.nombre = nombre #el nombre que tengas por default, cambialo por el nuevo que recibas\n",
        "      self.fuerza = fuerza\n",
        "      self.inteligencia = inteligencia\n",
        "      self.defensa = defensa\n",
        "      self.vida = vida\n",
        "\n",
        "  def atributos(self):\n",
        "    print(self.nombre, \":\", sep=\"\")\n",
        "    print(\"-Fuerza:\", self.fuerza)\n",
        "    print(\"-Inteligencia:\", self.inteligencia)\n",
        "    print(\"-Defensa:\", self.defensa)\n",
        "    print(\"-Vida:\", self.vida)\n",
        "\n",
        "  def subir_nivel(self, fuerza, inteligencia, defensa):\n",
        "    self.fuerza = self.fuerza + fuerza\n",
        "    self.inteligencia = self.inteligencia + inteligencia\n",
        "    self.defensa = self.defensa + defensa\n",
        "\n",
        "  def esta_vivo(self):\n",
        "    return self.vida > 0 #si no, devuelve False\n",
        "\n",
        "\n",
        "mi_personaje = Personaje(\"Nero\", 10, 1, 5, 100)\n",
        "mi_personaje.esta_vivo()"
      ],
      "metadata": {
        "colab": {
          "base_uri": "https://localhost:8080/"
        },
        "id": "tH0rTfTqUgZ1",
        "outputId": "e7e2fbb1-e45e-42e4-d2d3-1512113f6976"
      },
      "execution_count": 22,
      "outputs": [
        {
          "output_type": "execute_result",
          "data": {
            "text/plain": [
              "True"
            ]
          },
          "metadata": {},
          "execution_count": 22
        }
      ]
    },
    {
      "cell_type": "markdown",
      "source": [
        "Peros si le ponemos algo <= 0, nos da:"
      ],
      "metadata": {
        "id": "mgyz1SyiU7uA"
      }
    },
    {
      "cell_type": "code",
      "source": [
        "mi_personaje = Personaje(\"Nero\", 10, 1, 5, 0)\n",
        "mi_personaje.esta_vivo()"
      ],
      "metadata": {
        "colab": {
          "base_uri": "https://localhost:8080/"
        },
        "id": "UbYB3rVpU5dV",
        "outputId": "5993883f-3195-44fb-fd12-bbf3d397794f"
      },
      "execution_count": 25,
      "outputs": [
        {
          "output_type": "execute_result",
          "data": {
            "text/plain": [
              "False"
            ]
          },
          "metadata": {},
          "execution_count": 25
        }
      ]
    },
    {
      "cell_type": "markdown",
      "source": [
        "Ahora queremos un metodo que nos mate al personaje y nos diga que su vida esta en cero."
      ],
      "metadata": {
        "id": "ZoD71CYYVE-1"
      }
    },
    {
      "cell_type": "code",
      "source": [
        "class Personaje:\n",
        "  def __init__(self, nombre, fuerza, inteligencia, defensa, vida): #self es argumento que hace referencia a si mismo\n",
        "      self.nombre = nombre #el nombre que tengas por default, cambialo por el nuevo que recibas\n",
        "      self.fuerza = fuerza\n",
        "      self.inteligencia = inteligencia\n",
        "      self.defensa = defensa\n",
        "      self.vida = vida\n",
        "\n",
        "  def atributos(self):\n",
        "    print(self.nombre, \":\", sep=\"\")\n",
        "    print(\"-Fuerza:\", self.fuerza)\n",
        "    print(\"-Inteligencia:\", self.inteligencia)\n",
        "    print(\"-Defensa:\", self.defensa)\n",
        "    print(\"-Vida:\", self.vida)\n",
        "\n",
        "  def subir_nivel(self, fuerza, inteligencia, defensa):\n",
        "    self.fuerza = self.fuerza + fuerza\n",
        "    self.inteligencia = self.inteligencia + inteligencia\n",
        "    self.defensa = self.defensa + defensa\n",
        "\n",
        "  def esta_vivo(self):\n",
        "    return self.vida > 0 #si no, devuelve False\n",
        "\n",
        "  def morir(self):\n",
        "    self.vida = 0\n",
        "    print(self.nombre, \"ha muerto\")\n",
        "\n",
        "\n",
        "mi_personaje = Personaje(\"Nero\", 10, 1, 5, 100)\n",
        "mi_personaje.morir()\n",
        "mi_personaje.atributos()"
      ],
      "metadata": {
        "colab": {
          "base_uri": "https://localhost:8080/"
        },
        "id": "DcLXgWwpU_Rj",
        "outputId": "0ee12acd-057b-451e-d667-376a6b06c3f4"
      },
      "execution_count": 28,
      "outputs": [
        {
          "output_type": "stream",
          "name": "stdout",
          "text": [
            "Nero ha muerto\n",
            "Nero:\n",
            "-Fuerza: 10\n",
            "-Inteligencia: 1\n",
            "-Defensa: 5\n",
            "-Vida: 0\n"
          ]
        }
      ]
    },
    {
      "cell_type": "markdown",
      "source": [
        "Daño de un personaje a otro personaje:"
      ],
      "metadata": {
        "id": "E0FVPqk3WjHc"
      }
    },
    {
      "cell_type": "code",
      "source": [
        "class Personaje:\n",
        "  def __init__(self, nombre, fuerza, inteligencia, defensa, vida): #self es argumento que hace referencia a si mismo\n",
        "      self.nombre = nombre #el nombre que tengas por default, cambialo por el nuevo que recibas\n",
        "      self.fuerza = fuerza\n",
        "      self.inteligencia = inteligencia\n",
        "      self.defensa = defensa\n",
        "      self.vida = vida\n",
        "\n",
        "  def atributos(self):\n",
        "    print(self.nombre, \":\", sep=\"\")\n",
        "    print(\"-Fuerza:\", self.fuerza)\n",
        "    print(\"-Inteligencia:\", self.inteligencia)\n",
        "    print(\"-Defensa:\", self.defensa)\n",
        "    print(\"-Vida:\", self.vida)\n",
        "\n",
        "  def subir_nivel(self, fuerza, inteligencia, defensa):\n",
        "    self.fuerza = self.fuerza + fuerza\n",
        "    self.inteligencia = self.inteligencia + inteligencia\n",
        "    self.defensa = self.defensa + defensa\n",
        "\n",
        "  def esta_vivo(self):\n",
        "    return self.vida > 0 #si no, devuelve False\n",
        "\n",
        "  def morir(self):\n",
        "    self.vida = 0\n",
        "    print(self.nombre, \"ha muerto\")\n",
        "\n",
        "  def daño(self, enemigo):\n",
        "    return self.fuerza - enemigo.defensa\n",
        "\n",
        "\n",
        "mi_personaje = Personaje(\"Nero\", 10, 1, 5, 100)\n",
        "mi_enemigo = Personaje(\"Vergil\", 8, 5, 3, 100)\n",
        "print(mi_personaje.daño(mi_enemigo))"
      ],
      "metadata": {
        "colab": {
          "base_uri": "https://localhost:8080/"
        },
        "id": "ilTvzjTDVREC",
        "outputId": "beaf82b7-d19e-475b-99f2-07feaf5a45cf"
      },
      "execution_count": 29,
      "outputs": [
        {
          "output_type": "stream",
          "name": "stdout",
          "text": [
            "7\n"
          ]
        }
      ]
    },
    {
      "cell_type": "markdown",
      "source": [
        "Metodo atacar:"
      ],
      "metadata": {
        "id": "jJoxx8PCW2o7"
      }
    },
    {
      "cell_type": "code",
      "source": [
        "class Personaje:\n",
        "  def __init__(self, nombre, fuerza, inteligencia, defensa, vida): #self es argumento que hace referencia a si mismo\n",
        "      self.nombre = nombre #el nombre que tengas por default, cambialo por el nuevo que recibas\n",
        "      self.fuerza = fuerza\n",
        "      self.inteligencia = inteligencia\n",
        "      self.defensa = defensa\n",
        "      self.vida = vida\n",
        "\n",
        "  def atributos(self):\n",
        "    print(self.nombre, \":\", sep=\"\")\n",
        "    print(\"-Fuerza:\", self.fuerza)\n",
        "    print(\"-Inteligencia:\", self.inteligencia)\n",
        "    print(\"-Defensa:\", self.defensa)\n",
        "    print(\"-Vida:\", self.vida)\n",
        "\n",
        "  def subir_nivel(self, fuerza, inteligencia, defensa):\n",
        "    self.fuerza = self.fuerza + fuerza\n",
        "    self.inteligencia = self.inteligencia + inteligencia\n",
        "    self.defensa = self.defensa + defensa\n",
        "\n",
        "  def esta_vivo(self):\n",
        "    return self.vida > 0 #si no, devuelve False\n",
        "\n",
        "  def morir(self):\n",
        "    self.vida = 0\n",
        "    print(self.nombre, \"ha muerto\")\n",
        "\n",
        "  def daño(self, enemigo):\n",
        "    return self.fuerza - enemigo.defensa\n",
        "\n",
        "  def atacar(self, enemigo):\n",
        "    daño = self.daño(enemigo) #guardamos el daño en esta variable\n",
        "    enemigo.vida = enemigo.vida - daño\n",
        "    print(self.nombre, \"ha realizado\", daño, \"puntos de daño a\", enemigo.nombre)\n",
        "    print(\"la vida de\", enemigo.nombre, \"es\", enemigo.vida)\n",
        "\n",
        "mi_personaje = Personaje(\"Nero\", 10, 1, 5, 100)\n",
        "mi_enemigo = Personaje(\"Vergil\", 8, 5, 3, 100)\n",
        "mi_personaje.atacar(mi_enemigo)"
      ],
      "metadata": {
        "colab": {
          "base_uri": "https://localhost:8080/"
        },
        "id": "CV-KZhQkW09d",
        "outputId": "4bcf2007-8b3f-469a-8da1-9edaf758200f"
      },
      "execution_count": 30,
      "outputs": [
        {
          "output_type": "stream",
          "name": "stdout",
          "text": [
            "Nero ha realizado 7 puntos de daño a Vergil\n",
            "la vida de Vergil es 93\n"
          ]
        }
      ]
    },
    {
      "cell_type": "code",
      "source": [
        "mi_enemigo.atributos()"
      ],
      "metadata": {
        "colab": {
          "base_uri": "https://localhost:8080/"
        },
        "id": "EoqlbiIoXjBO",
        "outputId": "2d0ed233-bda6-4dd9-c1e9-282e78023fdf"
      },
      "execution_count": 31,
      "outputs": [
        {
          "output_type": "stream",
          "name": "stdout",
          "text": [
            "Vergil:\n",
            "-Fuerza: 8\n",
            "-Inteligencia: 5\n",
            "-Defensa: 3\n",
            "-Vida: 93\n"
          ]
        }
      ]
    },
    {
      "cell_type": "markdown",
      "source": [
        "Pero... ¿Y si la vida hubiese sido 5? ¿Sería vida negativa? Esta mal!"
      ],
      "metadata": {
        "id": "VUUHVdfYXyfY"
      }
    },
    {
      "cell_type": "code",
      "source": [
        "mi_enemigo_2 = Personaje(\"Vergil\", 8,5,3,2)\n",
        "mi_personaje.atacar(mi_enemigo_2)\n",
        "mi_enemigo_2.atributos()"
      ],
      "metadata": {
        "colab": {
          "base_uri": "https://localhost:8080/"
        },
        "id": "6V4J3cgGXugf",
        "outputId": "4825ff5a-54de-49a6-cccb-a8366b973704"
      },
      "execution_count": 34,
      "outputs": [
        {
          "output_type": "stream",
          "name": "stdout",
          "text": [
            "Nero ha realizado 7 puntos de daño a Vergil\n",
            "la vida de Vergil es -5\n",
            "Vergil:\n",
            "-Fuerza: 8\n",
            "-Inteligencia: 5\n",
            "-Defensa: 3\n",
            "-Vida: -5\n"
          ]
        }
      ]
    },
    {
      "cell_type": "code",
      "source": [
        "class Personaje:\n",
        "  def __init__(self, nombre, fuerza, inteligencia, defensa, vida): #self es argumento que hace referencia a si mismo\n",
        "      self.nombre = nombre #el nombre que tengas por default, cambialo por el nuevo que recibas\n",
        "      self.fuerza = fuerza\n",
        "      self.inteligencia = inteligencia\n",
        "      self.defensa = defensa\n",
        "      self.vida = vida\n",
        "\n",
        "  def atributos(self):\n",
        "    print(self.nombre, \":\", sep=\"\")\n",
        "    print(\"-Fuerza:\", self.fuerza)\n",
        "    print(\"-Inteligencia:\", self.inteligencia)\n",
        "    print(\"-Defensa:\", self.defensa)\n",
        "    print(\"-Vida:\", self.vida)\n",
        "\n",
        "  def subir_nivel(self, fuerza, inteligencia, defensa):\n",
        "    self.fuerza = self.fuerza + fuerza\n",
        "    self.inteligencia = self.inteligencia + inteligencia\n",
        "    self.defensa = self.defensa + defensa\n",
        "\n",
        "  def esta_vivo(self):\n",
        "    return self.vida > 0 #si no, devuelve False\n",
        "\n",
        "  def morir(self):\n",
        "    self.vida = 0\n",
        "    print(self.nombre, \"ha muerto\")\n",
        "\n",
        "  def daño(self, enemigo):\n",
        "    return self.fuerza - enemigo.defensa\n",
        "\n",
        "  def atacar(self, enemigo):\n",
        "    daño = self.daño(enemigo) #guardamos el daño en esta variable\n",
        "    enemigo.vida = enemigo.vida - daño\n",
        "    print(self.nombre, \"ha realizado\", daño, \"puntos de daño a\", enemigo.nombre)\n",
        "    if enemigo.esta_vivo():\n",
        "      print(\"la vida de\", enemigo.nombre, \"es\", enemigo.vida)\n",
        "    else:\n",
        "      enemigo.morir()\n",
        "\n",
        "mi_personaje = Personaje(\"Nero\", 10,1,5,100)\n",
        "mi_enemigo_2 = Personaje(\"Vergil\", 8,5,3,2)\n",
        "mi_personaje.atacar(mi_enemigo_2)\n",
        "mi_enemigo_2.atributos()"
      ],
      "metadata": {
        "colab": {
          "base_uri": "https://localhost:8080/"
        },
        "id": "dhkmQoOoX9MU",
        "outputId": "17ed3822-74e0-40bd-f5ba-5a5a347c604a"
      },
      "execution_count": 40,
      "outputs": [
        {
          "output_type": "stream",
          "name": "stdout",
          "text": [
            "Nero ha realizado 7 puntos de daño a Vergil\n",
            "Vergil ha muerto\n",
            "Vergil:\n",
            "-Fuerza: 8\n",
            "-Inteligencia: 5\n",
            "-Defensa: 3\n",
            "-Vida: 0\n"
          ]
        }
      ]
    },
    {
      "cell_type": "code",
      "source": [
        "mi_enemigo_2 = Personaje(\"Vergil\", 8,5,3,2)\n",
        "mi_personaje.atacar(mi_enemigo_2)\n",
        "mi_enemigo_2.atributos()"
      ],
      "metadata": {
        "colab": {
          "base_uri": "https://localhost:8080/"
        },
        "id": "1JfD1X5YYWxU",
        "outputId": "62aea1b2-6ce0-4dbe-ffa1-530f6ade16f3"
      },
      "execution_count": 41,
      "outputs": [
        {
          "output_type": "stream",
          "name": "stdout",
          "text": [
            "Nero ha realizado 7 puntos de daño a Vergil\n",
            "Vergil ha muerto\n",
            "Vergil:\n",
            "-Fuerza: 8\n",
            "-Inteligencia: 5\n",
            "-Defensa: 3\n",
            "-Vida: 0\n"
          ]
        }
      ]
    },
    {
      "cell_type": "markdown",
      "source": [
        "Para encapsulación utilizamos doble guión bajo (__) y así no se podrá acceder directamente a esos atributos o metodos y modificarlos. Pero en Python esto se emula ya que en realidad todas las clases son publicas. Por eso no agregamos setters o getters en este ejercicio."
      ],
      "metadata": {
        "id": "LPo0UTAqhM3r"
      }
    },
    {
      "cell_type": "markdown",
      "source": [
        "# Herencias"
      ],
      "metadata": {
        "id": "kE0SXnRrhb5X"
      }
    },
    {
      "cell_type": "code",
      "source": [
        "class Demonio(Personaje):\n",
        "\n",
        "  def __init__(self, nombre, fuerza, inteligencia, defensa, vida, espada):\n",
        "    super().__init__(nombre, fuerza, inteligencia, defensa, vida)\n",
        "    self.espada = espada\n",
        "\n",
        "  def cambiar_espada(self):\n",
        "    opcion = int(input(\"Elige una espada: (1) Rebellion, daño 8. (2) Sparda, daño 10\"))\n",
        "    if opcion == 1:\n",
        "      self.espada = 8\n",
        "    elif opcion == 2:\n",
        "      self.espada = 10\n",
        "    else:\n",
        "      print(\"Numero de espada incorrecta\")\n",
        "\n",
        "    def atributos(self):\n",
        "      super().atributos()\n",
        "      print(\"-Espada\", self.espada)\n",
        "\n",
        "dante = Demonio(\"Dante\", 20, 10, 10, 100, 5)\n",
        "dante.atributos()\n",
        "dante.cambiar_espada()"
      ],
      "metadata": {
        "colab": {
          "base_uri": "https://localhost:8080/"
        },
        "id": "8qgurMjbYZDw",
        "outputId": "2059b7bd-ebd1-4ff8-c0ab-a0294e7b8a35"
      },
      "execution_count": 44,
      "outputs": [
        {
          "name": "stdout",
          "output_type": "stream",
          "text": [
            "Dante:\n",
            "-Fuerza: 20\n",
            "-Inteligencia: 10\n",
            "-Defensa: 10\n",
            "-Vida: 100\n",
            "Elige una espada: (1) Rebellion, daño 8. (2) Sparda, daño 101\n"
          ]
        }
      ]
    },
    {
      "cell_type": "markdown",
      "source": [
        "El daño es fuerza * daño de espada - defensa del enemigo"
      ],
      "metadata": {
        "id": "fkjko85niYYm"
      }
    },
    {
      "cell_type": "code",
      "source": [
        "class Demonio(Personaje):\n",
        "\n",
        "  def __init__(self, nombre, fuerza, inteligencia, defensa, vida, espada):\n",
        "    #Personaje.__init__(self, todo el resto) pero no es lo mas eficiente:\n",
        "    super().__init__(nombre, fuerza, inteligencia, defensa, vida)\n",
        "    self.espada = espada\n",
        "\n",
        "  def cambiar_espada(self):\n",
        "    opcion = int(input(\"Elige una espada: (1) Rebellion, daño 8. (2) Sparda, daño 10: \"))\n",
        "    if opcion == 1:\n",
        "      self.espada = 8\n",
        "    elif opcion == 2:\n",
        "      self.espada = 10\n",
        "    else:\n",
        "      print(\"Numero de espada incorrecta\")\n",
        "\n",
        "  def atributos(self):\n",
        "    super().atributos()\n",
        "    print(\"-Espada:\", self.espada)\n",
        "\n",
        "  def daño(self, enemigo):\n",
        "    return self.fuerza * self.espada - enemigo.defensa\n",
        "\n",
        "dante = Demonio(\"Dante\", 20, 15, 10, 100, 5)\n",
        "dante.cambiar_espada()\n",
        "dante.atributos()"
      ],
      "metadata": {
        "colab": {
          "base_uri": "https://localhost:8080/"
        },
        "id": "iFqhw-54iHt8",
        "outputId": "d0cd154c-3a14-4377-a9d0-a6718c3427ec"
      },
      "execution_count": 63,
      "outputs": [
        {
          "output_type": "stream",
          "name": "stdout",
          "text": [
            "Elige una espada: (1) Rebellion, daño 8. (2) Sparda, daño 10:1\n",
            "Dante:\n",
            "-Fuerza: 20\n",
            "-Inteligencia: 15\n",
            "-Defensa: 10\n",
            "-Vida: 100\n",
            "-Espada: 8\n"
          ]
        }
      ]
    },
    {
      "cell_type": "code",
      "source": [
        "class Vi(Personaje):\n",
        "  def __init__(self, nombre, fuerza, inteligencia, defensa, vida, libro):\n",
        "    super().__init__(nombre, fuerza, inteligencia, defensa, vida)\n",
        "    self.libro = libro\n",
        "\n",
        "  def atributos(self):\n",
        "    super().atributos()\n",
        "    print(\"-Libro:\", self.libro)\n",
        "\n",
        "  def daño(self, enemigo):\n",
        "    return self.inteligencia * self.libro - enemigo.defensa"
      ],
      "metadata": {
        "id": "Cnlj_BOBir6D"
      },
      "execution_count": 48,
      "outputs": []
    },
    {
      "cell_type": "code",
      "source": [
        "vergil = Personaje(\"Vergil\", 20, 15, 10, 100)\n",
        "dante = Demonio(\"Dante\", 20, 15, 10, 100, 5)\n",
        "vi = Vi(\"vi\", 20, 15, 10, 100, 5)"
      ],
      "metadata": {
        "id": "IEArmxqmjH5X"
      },
      "execution_count": 50,
      "outputs": []
    },
    {
      "cell_type": "code",
      "source": [
        "vergil.atributos()\n",
        "dante.atributos()\n",
        "vi.atributos()"
      ],
      "metadata": {
        "colab": {
          "base_uri": "https://localhost:8080/"
        },
        "id": "DsCMVevkjo3f",
        "outputId": "861f474e-53c1-4464-a613-22c2434a499f"
      },
      "execution_count": 60,
      "outputs": [
        {
          "output_type": "stream",
          "name": "stdout",
          "text": [
            "Vergil:\n",
            "-Fuerza: 20\n",
            "-Inteligencia: 15\n",
            "-Defensa: 10\n",
            "-Vida: 100\n",
            "Dante:\n",
            "-Fuerza: 20\n",
            "-Inteligencia: 15\n",
            "-Defensa: 10\n",
            "-Vida: 100\n",
            "-Espada 10\n",
            "vi:\n",
            "-Fuerza: 20\n",
            "-Inteligencia: 15\n",
            "-Defensa: 10\n",
            "-Vida: 100\n",
            "-Libro: 5\n"
          ]
        }
      ]
    },
    {
      "cell_type": "markdown",
      "source": [
        "# Que se ataquen entre ellos!"
      ],
      "metadata": {
        "id": "gk64Hc2AlD3F"
      }
    },
    {
      "cell_type": "code",
      "source": [
        "vi.atacar(dante)"
      ],
      "metadata": {
        "colab": {
          "base_uri": "https://localhost:8080/"
        },
        "id": "431K9IFIk1a9",
        "outputId": "18ed8388-c0f4-4663-a428-0d00859ac4d9"
      },
      "execution_count": 64,
      "outputs": [
        {
          "output_type": "stream",
          "name": "stdout",
          "text": [
            "vi ha realizado 65 puntos de daño a Dante\n",
            "la vida de Dante es 35\n"
          ]
        }
      ]
    },
    {
      "cell_type": "code",
      "source": [
        "dante.atacar(vi)"
      ],
      "metadata": {
        "colab": {
          "base_uri": "https://localhost:8080/"
        },
        "id": "q-6vo1VhlRTK",
        "outputId": "4b15e481-2af0-4a5f-87a3-1b95a4549652"
      },
      "execution_count": 65,
      "outputs": [
        {
          "output_type": "stream",
          "name": "stdout",
          "text": [
            "Dante ha realizado 150 puntos de daño a vi\n",
            "vi ha muerto\n"
          ]
        }
      ]
    },
    {
      "cell_type": "code",
      "source": [
        "dante.atacar(vergil)"
      ],
      "metadata": {
        "colab": {
          "base_uri": "https://localhost:8080/"
        },
        "id": "SOKve5qblTot",
        "outputId": "7c5a00d8-50c2-4d53-d703-231bcbbf5c26"
      },
      "execution_count": 66,
      "outputs": [
        {
          "output_type": "stream",
          "name": "stdout",
          "text": [
            "Dante ha realizado 150 puntos de daño a Vergil\n",
            "Vergil ha muerto\n"
          ]
        }
      ]
    },
    {
      "cell_type": "code",
      "source": [
        "dante.atacar(vi)"
      ],
      "metadata": {
        "colab": {
          "base_uri": "https://localhost:8080/"
        },
        "id": "OjhP__BIlWAz",
        "outputId": "0c467b73-2239-43b8-962d-dbb6bbd4e368"
      },
      "execution_count": 67,
      "outputs": [
        {
          "output_type": "stream",
          "name": "stdout",
          "text": [
            "Dante ha realizado 150 puntos de daño a vi\n",
            "vi ha muerto\n"
          ]
        }
      ]
    },
    {
      "cell_type": "markdown",
      "source": [
        "Ganó Dante!"
      ],
      "metadata": {
        "id": "dL_mnIjHlY1t"
      }
    },
    {
      "cell_type": "markdown",
      "source": [
        "# Polimorfismo"
      ],
      "metadata": {
        "id": "KInXYIk7lq7a"
      }
    },
    {
      "cell_type": "markdown",
      "source": [
        "## Ejemplo simple"
      ],
      "metadata": {
        "id": "qZhWNTcbmekQ"
      }
    },
    {
      "cell_type": "markdown",
      "source": [
        "Funciones que reciban objetos con metodos que tengan el mismo nombre."
      ],
      "metadata": {
        "id": "1KBkCVi5ltM1"
      }
    },
    {
      "cell_type": "code",
      "source": [
        "class Cafe():\n",
        "  def que_soy(self):\n",
        "    print(\"Soy un cafe\")\n",
        "\n",
        "class Te():\n",
        "  def que_soy(self):\n",
        "    print(\"Soy un té\")\n",
        "\n",
        "def definicion_bebida(bebida):\n",
        "  bebida.que_soy()"
      ],
      "metadata": {
        "id": "-UM2414hlrxz"
      },
      "execution_count": 69,
      "outputs": []
    },
    {
      "cell_type": "markdown",
      "source": [
        "Entonces, el método \"que_soy()\" tomará multiples formas en funcion al objeto que reciba."
      ],
      "metadata": {
        "id": "hkQ3Ck-tmNTJ"
      }
    },
    {
      "cell_type": "code",
      "source": [
        "definicion_bebida(Te())"
      ],
      "metadata": {
        "colab": {
          "base_uri": "https://localhost:8080/"
        },
        "id": "taEfYu03mGYe",
        "outputId": "25e6aa5a-267b-4150-a876-dbe441ee1df5"
      },
      "execution_count": 70,
      "outputs": [
        {
          "output_type": "stream",
          "name": "stdout",
          "text": [
            "Soy un té\n"
          ]
        }
      ]
    },
    {
      "cell_type": "code",
      "source": [
        "definicion_bebida(Cafe())"
      ],
      "metadata": {
        "colab": {
          "base_uri": "https://localhost:8080/"
        },
        "id": "hlvXj-YrmIDl",
        "outputId": "a1f84185-0c4f-4a17-df60-280c8ef4255e"
      },
      "execution_count": 71,
      "outputs": [
        {
          "output_type": "stream",
          "name": "stdout",
          "text": [
            "Soy un cafe\n"
          ]
        }
      ]
    },
    {
      "cell_type": "markdown",
      "source": [
        "## Ejemplo con el juego"
      ],
      "metadata": {
        "id": "xSHA0MrdmhKi"
      }
    },
    {
      "cell_type": "code",
      "source": [
        "def combate(jugador_1, jugador_2):\n",
        "  turno = 0\n",
        "  while jugador_1.esta_vivo() and jugador_2.esta_vivo():\n",
        "    print(\"\\nTurno\", turno)\n",
        "    print(\">>> Acción de \", jugador_1.nombre, \":\", sep=\"\")\n",
        "    jugador_1.atacar(jugador_2)\n",
        "    print(\">>> Acción de \", jugador_2.nombre, \":\", sep=\"\")\n",
        "    jugador_2.atacar(jugador_1)\n",
        "    turno = turno +1\n",
        "  if jugador_1.esta_vivo():\n",
        "    print(\"\\nHa ganado\", jugador_1.nombre)\n",
        "  elif jugador_2.esta_vivo():\n",
        "    print(\"\\nHa ganado\", jugador_2.nombre)\n",
        "  else:\n",
        "    print(\"\\nEmpate\")\n",
        "\n",
        "personaje_1 = Personaje(\"Dante\", 20, 10, 4, 100) #si es demonio agregarle la espada\n",
        "personaje_2 = Vi(\"Vi\", 5, 15, 3, 100, 3)\n",
        "\n",
        "combate(personaje_1, personaje_2)"
      ],
      "metadata": {
        "colab": {
          "base_uri": "https://localhost:8080/"
        },
        "id": "laKppYg5miUE",
        "outputId": "eb5565f5-f225-4b12-85f8-3969b25b5107"
      },
      "execution_count": 77,
      "outputs": [
        {
          "output_type": "stream",
          "name": "stdout",
          "text": [
            "\n",
            "Turno 0\n",
            ">>> Acción de Dante:\n",
            "Dante ha realizado 17 puntos de daño a Vi\n",
            "la vida de Vi es 83\n",
            ">>> Acción de Vi:\n",
            "Vi ha realizado 41 puntos de daño a Dante\n",
            "la vida de Dante es 59\n",
            "\n",
            "Turno 1\n",
            ">>> Acción de Dante:\n",
            "Dante ha realizado 17 puntos de daño a Vi\n",
            "la vida de Vi es 66\n",
            ">>> Acción de Vi:\n",
            "Vi ha realizado 41 puntos de daño a Dante\n",
            "la vida de Dante es 18\n",
            "\n",
            "Turno 2\n",
            ">>> Acción de Dante:\n",
            "Dante ha realizado 17 puntos de daño a Vi\n",
            "la vida de Vi es 49\n",
            ">>> Acción de Vi:\n",
            "Vi ha realizado 41 puntos de daño a Dante\n",
            "Dante ha muerto\n",
            "\n",
            "Ha ganado Vi\n"
          ]
        }
      ]
    }
  ]
}